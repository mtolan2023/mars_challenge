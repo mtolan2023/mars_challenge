{
 "cells": [
  {
   "cell_type": "markdown",
   "metadata": {},
   "source": [
    "# Module 12 Challenge\n",
    "## Deliverable 2: Scrape and Analyze Mars Weather Data"
   ]
  },
  {
   "cell_type": "code",
   "execution_count": 1,
   "metadata": {},
   "outputs": [],
   "source": [
    "# Import relevant libraries\n",
    "from splinter import Browser\n",
    "from bs4 import BeautifulSoup as soup\n",
    "import matplotlib.pyplot as plt\n",
    "import pandas as pd"
   ]
  },
  {
   "cell_type": "code",
   "execution_count": null,
   "metadata": {},
   "outputs": [],
   "source": [
    "browser = Browser('chrome')"
   ]
  },
  {
   "cell_type": "markdown",
   "metadata": {},
   "source": [
    "### Step 1: Visit the Website\n",
    "\n",
    "Use automated browsing to visit the [Mars Temperature Data Site](https://static.bc-edx.com/data/web/mars_facts/temperature.html). Inspect the page to identify which elements to scrape.\n",
    "\n",
    "   > **Hint** To identify which elements to scrape, you might want to inspect the page by using Chrome DevTools to discover whether the table contains usable classes.\n"
   ]
  },
  {
   "cell_type": "code",
   "execution_count": null,
   "metadata": {},
   "outputs": [],
   "source": [
    "# Visit the website\n",
    "# https://static.bc-edx.com/data/web/mars_facts/temperature.html\n",
    "url = \"https://static.bc-edx.com/data/web/mars_facts/temperature.html\"\n",
    "browser.visit(url)"
   ]
  },
  {
   "cell_type": "markdown",
   "metadata": {},
   "source": [
    "### Step 2: Scrape the Table\n",
    "\n",
    "Create a Beautiful Soup object and use it to scrape the data in the HTML table.\n",
    "\n",
    "Note that this can also be achieved by using the Pandas `read_html` function. However, use Beautiful Soup here to continue sharpening your web scraping skills."
   ]
  },
  {
   "cell_type": "code",
   "execution_count": null,
   "metadata": {},
   "outputs": [],
   "source": [
    "# Create a Beautiful Soup Object\n",
    "html = browser.html\n",
    "\n",
    "soup = soup(html, 'html.parser')"
   ]
  },
  {
   "cell_type": "code",
   "execution_count": null,
   "metadata": {},
   "outputs": [],
   "source": [
    "# Extract all rows of data\n",
    "data= soup.find('table')\n",
    "\n",
    "data_rows =data.tbody.find_all(\"tr\", class_=\"data-row\")"
   ]
  },
  {
   "cell_type": "markdown",
   "metadata": {},
   "source": [
    "### Step 3: Store the Data\n",
    "\n",
    "Assemble the scraped data into a Pandas DataFrame. The columns should have the same headings as the table on the website. Here’s an explanation of the column headings:\n",
    "\n",
    "* `id`: the identification number of a single transmission from the Curiosity rover\n",
    "* `terrestrial_date`: the date on Earth\n",
    "* `sol`: the number of elapsed sols (Martian days) since Curiosity landed on Mars\n",
    "* `ls`: the solar longitude\n",
    "* `month`: the Martian month\n",
    "* `min_temp`: the minimum temperature, in Celsius, of a single Martian day (sol)\n",
    "* `pressure`: The atmospheric pressure at Curiosity's location"
   ]
  },
  {
   "cell_type": "code",
   "execution_count": null,
   "metadata": {},
   "outputs": [],
   "source": [
    "# Create an empty list\n",
    "row_list = []\n",
    "\n",
    "# Loop through the scraped data to create a list of rows\n",
    "for row in data_rows:\n",
    "    row_list.append([n.text.strip() for n in row.find_all('td')])"
   ]
  },
  {
   "cell_type": "code",
   "execution_count": null,
   "metadata": {},
   "outputs": [],
   "source": [
    "# Create a Pandas DataFrame by using the list of rows and a list of the column names\n",
    "\n",
    "#Build list for column namers\n",
    "column_list = ['id', 'terrestrial_date', 'sol', 'ls', 'month', 'min_temp', 'pressure']\n",
    "#Assemble df from column and row lists\n",
    "mars_df = pd.DataFrame(row_list, columns=column_list)\n"
   ]
  },
  {
   "cell_type": "code",
   "execution_count": null,
   "metadata": {},
   "outputs": [],
   "source": [
    "# Confirm DataFrame was created successfully\n",
    "mars_df.head()"
   ]
  },
  {
   "cell_type": "markdown",
   "metadata": {},
   "source": [
    "### Step 4: Prepare Data for Analysis\n",
    "\n",
    "Examine the data types that are currently associated with each column. If necessary, cast (or convert) the data to the appropriate `datetime`, `int`, or `float` data types.\n",
    "\n",
    "  > **Hint** You can use the Pandas `astype` and `to_datetime` methods to accomplish this task.\n"
   ]
  },
  {
   "cell_type": "code",
   "execution_count": null,
   "metadata": {},
   "outputs": [],
   "source": [
    "# Examine data type of each column\n",
    "mars_df.dtypes"
   ]
  },
  {
   "cell_type": "code",
   "execution_count": null,
   "metadata": {},
   "outputs": [],
   "source": [
    "# Change data types for data analysis\n",
    "\n",
    "# Convert 'terrestrial date to datetime\n",
    "mars_df['terrestrial_date'] = pd.to_datetime(mars_df['terrestrial_date'])\n",
    "# Convert other objexts to string and float\n",
    "mars_df = mars_df.astype({'sol':'int', 'ls':'int', 'month':'int', \\\n",
    "                          'min_temp':'float', 'pressure':'float'})\n"
   ]
  },
  {
   "cell_type": "code",
   "execution_count": null,
   "metadata": {},
   "outputs": [],
   "source": [
    "# Confirm type changes were successful by examining data types again\n",
    "mars_df.dtypes"
   ]
  },
  {
   "cell_type": "markdown",
   "metadata": {},
   "source": [
    "### Step 5: Analyze the Data\n",
    "\n",
    "Analyze your dataset by using Pandas functions to answer the following questions:\n",
    "\n",
    "1. How many months exist on Mars?\n",
    "2. How many Martian (and not Earth) days worth of data exist in the scraped dataset?\n",
    "3. What are the coldest and the warmest months on Mars (at the location of Curiosity)? To answer this question:\n",
    "    * Find the average the minimum daily temperature for all of the months.\n",
    "    * Plot the results as a bar chart.\n",
    "4. Which months have the lowest and the highest atmospheric pressure on Mars? To answer this question:\n",
    "    * Find the average the daily atmospheric pressure of all the months.\n",
    "    * Plot the results as a bar chart.\n",
    "5. About how many terrestrial (Earth) days exist in a Martian year? To answer this question:\n",
    "    * Consider how many days elapse on Earth in the time that Mars circles the Sun once.\n",
    "    * Visually estimate the result by plotting the daily minimum temperature.\n"
   ]
  },
  {
   "cell_type": "code",
   "execution_count": null,
   "metadata": {
    "scrolled": true
   },
   "outputs": [],
   "source": [
    "# 1. How many months are there on Mars?\n",
    "\n",
    "# Count instances of each month in month column\n",
    "months = mars_df['month'].value_counts()\n",
    "# Convert indext to int for correct sorting\n",
    "months.index = months.index.astype(int)\n",
    "# Sort index ascending by month\n",
    "months.sort_index()"
   ]
  },
  {
   "cell_type": "code",
   "execution_count": null,
   "metadata": {},
   "outputs": [],
   "source": [
    "# 2. How many Martian days' worth of data are there?\n",
    "\n",
    "# Count index for total days\n",
    "martian_days = len(mars_df.index)\n",
    "martian_days"
   ]
  },
  {
   "cell_type": "code",
   "execution_count": null,
   "metadata": {
    "scrolled": false
   },
   "outputs": [],
   "source": [
    "# 3. What is the average low temperature by month?\n",
    "\n",
    "# Copy df for reformatting\n",
    "mars_pos =mars_df.copy()\n",
    "\n",
    "# Convert 'min-temp' to string to strip negative values \n",
    "mars_pos['min_temp'] = mars_pos['min_temp'].astype(str)\n",
    "# Strip negative sign from 'min_temp' and convert back to float\n",
    "mars_pos['min_temp'] = mars_pos['min_temp'].str.replace('-','').astype(float)\n",
    "# Find the mean of each month\n",
    "ave_low = mars_pos.groupby(['month'])['min_temp'].mean()\n",
    "# Set index to int to properly sort by month\n",
    "ave_low.index = ave_low.index.astype(int)\n",
    "# Sort index by month\n",
    "ave_low = ave_low.sort_index()\n",
    "# Insert negative sign using -abs\n",
    "ave_low = -abs(ave_low)\n",
    "\n",
    "ave_low"
   ]
  },
  {
   "cell_type": "code",
   "execution_count": null,
   "metadata": {},
   "outputs": [],
   "source": [
    "# Plot the average temperature by month\n",
    "\n",
    "# Bar plot from series\n",
    "plt.bar(ave_low.index, ave_low.values, width=.5) \n",
    "plt.xlabel(\"Month\")\n",
    "plt.ylabel(\"Temperature in Celsius\")\n",
    "plt.xticks(ave_low.index, rotation=90)\n",
    "\n",
    "plt.show()"
   ]
  },
  {
   "cell_type": "code",
   "execution_count": null,
   "metadata": {
    "scrolled": false
   },
   "outputs": [],
   "source": [
    "# Identify the coldest and hottest months in Curiosity's location\n",
    "\n",
    "#Coldest Average Temps by month\n",
    "#Starting with mars_pos df, since it has stripped the negative from all values. Find mean, sort\n",
    "ave_low_cold = mars_pos.groupby(['month'])['min_temp'].mean().sort_values(ascending=False)\n",
    "ave_low_cold = -abs(ave_low_cold)\n",
    "ave_low_cold\n",
    "# Convert series to df for plotting\n",
    "ave_low_df = pd.DataFrame(ave_low_cold)\n",
    "# Create bar plot\n",
    "ave_low_df.plot.bar(xlabel=\"Month\", ylabel=\"Temperature in Celsius\", legend=False)\n",
    "plt.show()"
   ]
  },
  {
   "cell_type": "code",
   "execution_count": null,
   "metadata": {
    "scrolled": true
   },
   "outputs": [],
   "source": [
    "# 4. Average pressure by Martian month\n",
    "\n",
    "# Copy main df for sorting\n",
    "pressure_df= mars_df.copy()\n",
    "# Convert pressure to float to allow for large calculation\n",
    "pressure_df['pressure'] = pressure_df['pressure'].astype(float)\n",
    "# Group average pressure by month\n",
    "ave_pressure = pressure_df.groupby(['month'])['pressure'].mean()\n",
    "# Set index to in for proper sorting\n",
    "ave_pressure.index = ave_pressure.index.astype(int)\n",
    "# Sort index\n",
    "ave_pressure = ave_pressure.sort_index()\n",
    "\n",
    "ave_pressure"
   ]
  },
  {
   "cell_type": "code",
   "execution_count": null,
   "metadata": {},
   "outputs": [],
   "source": [
    "# Plot the average pressure by month\n",
    "\n",
    "# Sort atmospheric pressure average by month\n",
    "ave_pressure_sort = pressure_df.groupby(['month'])['pressure'].mean().sort_values()\n",
    "ave_pressure_sort\n",
    "# Convert series to df for plotting\n",
    "ave_pressure_df = pd.DataFrame(ave_pressure_sort)\n",
    "# Bar plot\n",
    "ave_pressure_df.plot.bar(xlabel=\"Month\", ylabel=\"Atmospheric Pressure\", legend=False)\n",
    "plt.show()"
   ]
  },
  {
   "cell_type": "code",
   "execution_count": null,
   "metadata": {},
   "outputs": [],
   "source": [
    "# 5. How many terrestrial (earth) days are there in a Martian year?\n",
    "\n",
    "# extract the min temp for every day in the positive formatted df\n",
    "days = mars_pos['min_temp']\n",
    "#correct min_temp to negative\n",
    "days = -abs(days)\n",
    "days\n",
    "\n",
    "# Plot each day to infer Martian year based on peaks of hot and cold temps\n",
    "plt.plot(days)\n",
    "plt.xlabel(\"Number of Terrestrial Days\")\n",
    "plt.ylabel(\"Minimum Temperature\")"
   ]
  },
  {
   "cell_type": "markdown",
   "metadata": {},
   "source": [
    "On average, the third month has the coldest minimum temperature on Mars, and the eighth month is the warmest. But it is always very cold there in human terms!\n",
    "\n"
   ]
  },
  {
   "cell_type": "markdown",
   "metadata": {},
   "source": [
    "Atmospheric pressure is, on average, lowest in the sixth month and highest in the ninth."
   ]
  },
  {
   "cell_type": "markdown",
   "metadata": {},
   "source": [
    "The distance from peak to peak is roughly 1425-750, or 675 days. A year on Mars appears to be about 675 days from the plot. Internet search confirms that a Mars year is equivalent to 687 earth days."
   ]
  },
  {
   "cell_type": "markdown",
   "metadata": {},
   "source": [
    "### Step 6: Save the Data\n",
    "\n",
    "Export the DataFrame to a CSV file."
   ]
  },
  {
   "cell_type": "code",
   "execution_count": null,
   "metadata": {},
   "outputs": [],
   "source": [
    "# Write the data to a CSV\n",
    "mars_df.to_csv('output_data/mars_data.csv')"
   ]
  },
  {
   "cell_type": "code",
   "execution_count": null,
   "metadata": {},
   "outputs": [],
   "source": [
    "browser.quit()"
   ]
  },
  {
   "cell_type": "code",
   "execution_count": null,
   "metadata": {},
   "outputs": [],
   "source": []
  }
 ],
 "metadata": {
  "kernelspec": {
   "display_name": "Python 3 (ipykernel)",
   "language": "python",
   "name": "python3"
  },
  "language_info": {
   "codemirror_mode": {
    "name": "ipython",
    "version": 3
   },
   "file_extension": ".py",
   "mimetype": "text/x-python",
   "name": "python",
   "nbconvert_exporter": "python",
   "pygments_lexer": "ipython3",
   "version": "3.10.10"
  },
  "vscode": {
   "interpreter": {
    "hash": "31f2aee4e71d21fbe5cf8b01ff0e069b9275f58929596ceb00d14d90e3e16cd6"
   }
  }
 },
 "nbformat": 4,
 "nbformat_minor": 4
}
